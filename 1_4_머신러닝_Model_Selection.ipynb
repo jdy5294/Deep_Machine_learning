{
  "cells": [
    {
      "cell_type": "markdown",
      "metadata": {
        "id": "view-in-github",
        "colab_type": "text"
      },
      "source": [
        "<a href=\"https://colab.research.google.com/github/jdy5294/Deep_Machine_learning/blob/main/1_4_%EB%A8%B8%EC%8B%A0%EB%9F%AC%EB%8B%9D_Model_Selection.ipynb\" target=\"_parent\"><img src=\"https://colab.research.google.com/assets/colab-badge.svg\" alt=\"Open In Colab\"/></a>"
      ]
    },
    {
      "cell_type": "markdown",
      "source": [
        "### 기본 라이브러리"
      ],
      "metadata": {
        "id": "Y5tzgH62lHL6"
      }
    },
    {
      "cell_type": "code",
      "source": [
        "import warnings\n",
        "warnings.filterwarnings('ignore')\n",
        "\n",
        "import numpy as np\n",
        "import pandas as pd\n",
        "import seaborn as sns\n",
        "import matplotlib.pyplot as plt"
      ],
      "metadata": {
        "id": "8roFyFILlHtI"
      },
      "execution_count": 3,
      "outputs": []
    },
    {
      "cell_type": "markdown",
      "source": [
        "### train_test_split()"
      ],
      "metadata": {
        "id": "SsU7k19wk1NO"
      }
    },
    {
      "cell_type": "code",
      "source": [
        "from sklearn.datasets import load_iris\n",
        "from sklearn.model_selection import train_test_split\n",
        "from sklearn.tree import DecisionTreeClassifier\n",
        "from sklearn.metrics import accuracy_score\n",
        "\n",
        "iris = load_iris()\n",
        "X_iris = iris.data\n",
        "y_iris = iris.target\n",
        "\n",
        "print(X_iris[:10])\n",
        "print(y_iris[:10])\n",
        "print(iris.target_names)\n",
        "print(iris.feature_names)"
      ],
      "metadata": {
        "colab": {
          "base_uri": "https://localhost:8080/"
        },
        "id": "rZ0o5dFBkkmV",
        "outputId": "34926000-cc2d-4359-93aa-a2dc896ca3ee"
      },
      "execution_count": 11,
      "outputs": [
        {
          "output_type": "stream",
          "name": "stdout",
          "text": [
            "[[5.1 3.5 1.4 0.2]\n",
            " [4.9 3.  1.4 0.2]\n",
            " [4.7 3.2 1.3 0.2]\n",
            " [4.6 3.1 1.5 0.2]\n",
            " [5.  3.6 1.4 0.2]\n",
            " [5.4 3.9 1.7 0.4]\n",
            " [4.6 3.4 1.4 0.3]\n",
            " [5.  3.4 1.5 0.2]\n",
            " [4.4 2.9 1.4 0.2]\n",
            " [4.9 3.1 1.5 0.1]]\n",
            "[0 0 0 0 0 0 0 0 0 0]\n",
            "['setosa' 'versicolor' 'virginica']\n",
            "['sepal length (cm)', 'sepal width (cm)', 'petal length (cm)', 'petal width (cm)']\n"
          ]
        }
      ]
    },
    {
      "cell_type": "code",
      "source": [
        "# 학습 데이터셋으로 예측\n",
        "dt = DecisionTreeClassifier()\n",
        "\n",
        "dt.fit(X_iris, y_iris)\n",
        "pred = dt.predict(X_iris)\n",
        "\n",
        "print('예측 정확도: {:.4f}'.format(accuracy_score(pred, y_iris)))"
      ],
      "metadata": {
        "colab": {
          "base_uri": "https://localhost:8080/"
        },
        "id": "bm_DXtvUkpwL",
        "outputId": "b2a42324-c492-4a68-9f3a-3bc589f9b3a9"
      },
      "execution_count": 13,
      "outputs": [
        {
          "output_type": "stream",
          "name": "stdout",
          "text": [
            "예측 정확도: 1.0000\n"
          ]
        }
      ]
    },
    {
      "cell_type": "code",
      "source": [
        "# 데이터 분리 후 예측\n",
        "X_train, X_test, y_train, y_test = train_test_split(X_iris, y_iris, test_size = 0.3, random_state = 121)\n",
        "\n",
        "dt = DecisionTreeClassifier()\n",
        "\n",
        "dt.fit(X_train, y_train)\n",
        "pred = dt.predict(X_test)\n",
        "\n",
        "print('예측 정확도: {:.4f}'.format(accuracy_score(pred, y_test)))"
      ],
      "metadata": {
        "colab": {
          "base_uri": "https://localhost:8080/"
        },
        "id": "QWblz_4Tkpyv",
        "outputId": "39f9595c-e732-4a3b-d489-498c13cbcbd0"
      },
      "execution_count": 19,
      "outputs": [
        {
          "output_type": "stream",
          "name": "stdout",
          "text": [
            "예측 정확도: 0.9556\n"
          ]
        }
      ]
    },
    {
      "cell_type": "markdown",
      "source": [
        "### 교차 검증"
      ],
      "metadata": {
        "id": "QOxDLiGq2IJ4"
      }
    },
    {
      "cell_type": "markdown",
      "source": [
        "#### KFold"
      ],
      "metadata": {
        "id": "CPqeNjzS8HWg"
      }
    },
    {
      "cell_type": "code",
      "source": [
        "from sklearn.datasets import load_iris\n",
        "from sklearn.model_selection import KFold\n",
        "from sklearn.metrics import accuracy_score\n",
        "\n",
        "iris = load_iris()\n",
        "X_iris = iris.data\n",
        "y_iris = iris.target\n",
        "\n",
        "print('붓꽃 데이터 개수: {}'.format(X_iris.shape[0]))"
      ],
      "metadata": {
        "colab": {
          "base_uri": "https://localhost:8080/"
        },
        "id": "OT_RV-dikp1A",
        "outputId": "c20cabf2-8eff-45f0-f6d7-f491773af4a4"
      },
      "execution_count": 24,
      "outputs": [
        {
          "output_type": "stream",
          "name": "stdout",
          "text": [
            "붓꽃 데이터 개수: 150\n"
          ]
        }
      ]
    },
    {
      "cell_type": "code",
      "source": [
        "cv_accuracy = []\n",
        "kfold = KFold(n_splits = 5)\n",
        "\n",
        "n_iter = 0\n",
        "\n",
        "for train_index, test_index in kfold.split(X_iris):\n",
        "  n_iter += 1\n",
        "  X_train, X_test = X_iris[train_index], X_iris[test_index]\n",
        "  y_train, y_test = y_iris[train_index], y_iris[test_index]\n",
        "\n",
        "  dt = DecisionTreeClassifier(random_state = 121)\n",
        "  dt.fit(X_train, y_train)\n",
        "  pred = dt.predict(X_test)\n",
        "  accuracy = accuracy_score(pred, y_test)\n",
        "  cv_accuracy.append(accuracy)\n",
        "\n",
        "  print('{}번째 교차검증 정확도: {:.4f}, train/val 크기 = {}/{}'.format(\n",
        "      n_iter, accuracy, X_train.shape[0], X_test.shape[0]\n",
        "  ))\n",
        "\n",
        "print('\\n 평균 검증 정확도: {:.4f}'.format(np.mean(cv_accuracy)))"
      ],
      "metadata": {
        "colab": {
          "base_uri": "https://localhost:8080/"
        },
        "id": "3-8XrTXCkp3c",
        "outputId": "92ecf55e-6e05-4a67-ca2e-cab020c61830"
      },
      "execution_count": 38,
      "outputs": [
        {
          "output_type": "stream",
          "name": "stdout",
          "text": [
            "1번째 교차검증 정확도: 1.0000, train/val 크기 = 120/30\n",
            "2번째 교차검증 정확도: 1.0000, train/val 크기 = 120/30\n",
            "3번째 교차검증 정확도: 0.9000, train/val 크기 = 120/30\n",
            "4번째 교차검증 정확도: 0.9333, train/val 크기 = 120/30\n",
            "5번째 교차검증 정확도: 0.7333, train/val 크기 = 120/30\n",
            "\n",
            " 평균 검증 정확도: 0.9133\n"
          ]
        }
      ]
    },
    {
      "cell_type": "markdown",
      "source": [
        "#### StratifiedKFold"
      ],
      "metadata": {
        "id": "tZvDv1mh9CoJ"
      }
    },
    {
      "cell_type": "code",
      "source": [
        "from sklearn.model_selection import StratifiedKFold\n",
        "\n",
        "cv_accuracy2 = []\n",
        "stf_kfold = StratifiedKFold(n_splits = 5)\n",
        "\n",
        "n_iter = 0\n",
        "\n",
        "for train_index, test_index in stf_kfold.split(X_iris, y_iris):\n",
        "  n_iter += 1\n",
        "  X_train, X_test = X_iris[train_index], X_iris[test_index]\n",
        "  y_train, y_test = y_iris[train_index], y_iris[test_index]\n",
        "\n",
        "  dt = DecisionTreeClassifier(random_state = 121)\n",
        "  dt.fit(X_train, y_train)\n",
        "  pred = dt.predict(X_test)\n",
        "  accuracy = accuracy_score(pred, y_test)\n",
        "  cv_accuracy2.append(accuracy)\n",
        "\n",
        "  print('{}번째 교차검증 정확도: {:.4f}, train/val 크기 = {}/{}'.format(\n",
        "      n_iter, accuracy, X_train.shape[0], X_test.shape[0]\n",
        "  ))\n",
        "\n",
        "print('\\n 평균 검증 정확도: {:.4f}'.format(np.mean(cv_accuracy2)))"
      ],
      "metadata": {
        "colab": {
          "base_uri": "https://localhost:8080/"
        },
        "id": "hMb_kJ0Lkp56",
        "outputId": "6d6f0155-ecf8-4152-c7f5-75ff7188fabc"
      },
      "execution_count": 39,
      "outputs": [
        {
          "output_type": "stream",
          "name": "stdout",
          "text": [
            "1번째 교차검증 정확도: 0.9667, train/val 크기 = 120/30\n",
            "2번째 교차검증 정확도: 0.9667, train/val 크기 = 120/30\n",
            "3번째 교차검증 정확도: 0.9000, train/val 크기 = 120/30\n",
            "4번째 교차검증 정확도: 0.9667, train/val 크기 = 120/30\n",
            "5번째 교차검증 정확도: 1.0000, train/val 크기 = 120/30\n",
            "\n",
            " 평균 검증 정확도: 0.9600\n"
          ]
        }
      ]
    },
    {
      "cell_type": "markdown",
      "source": [
        "#### KFold vs StratifiedKFold\n",
        "\n",
        "    StratifiedKFold는 label의 비율을 고려하여 균일하게 나눔\n",
        "\n",
        "참고: https://blog.naver.com/PostView.naver?blogId=sjy5448&logNo=222427780700&parentCategoryNo=&categoryNo=144&viewDate=&isShowPopularPosts=true&from=search"
      ],
      "metadata": {
        "id": "889dHO4E9gsd"
      }
    },
    {
      "cell_type": "code",
      "source": [
        "# KFold\n",
        "n_iter = 0\n",
        "kfold = KFold(n_splits = 3)\n",
        "\n",
        "for train_index, test_index in kfold.split(X_iris):\n",
        "  n_iter += 1\n",
        "  y_train, y_test = y_iris[train_index], y_iris[test_index]\n",
        "  \n",
        "  label_train = np.unique(y_train, return_counts=True)\n",
        "  label_test = np.unique(y_test, return_counts=True)\n",
        "\n",
        "  count_train = pd.DataFrame(label_train[1], index=label_train[0], columns=['count']).transpose()\n",
        "  count_test = pd.DataFrame(label_test[1], index=label_test[0], columns=['count']).transpose()\n",
        "  print('######### Round {} #########'.format(n_iter))\n",
        "  print('Train 각 label 별 개수 분포')\n",
        "  print(count_train)\n",
        "  print('------------------------------')\n",
        "  print('Validation 각 label 별 개수 분포')\n",
        "  print(count_test)\n",
        "  print('------------------------------')"
      ],
      "metadata": {
        "colab": {
          "base_uri": "https://localhost:8080/"
        },
        "id": "U6ibBvfXkp8n",
        "outputId": "d26ec434-b5be-4055-ef4e-aaaad2c0f87c"
      },
      "execution_count": 69,
      "outputs": [
        {
          "output_type": "stream",
          "name": "stdout",
          "text": [
            "######### Round 1 #########\n",
            "Train 각 label 별 개수 분포\n",
            "        1   2\n",
            "count  50  50\n",
            "------------------------------\n",
            "Validation 각 label 별 개수 분포\n",
            "        0\n",
            "count  50\n",
            "------------------------------\n",
            "######### Round 2 #########\n",
            "Train 각 label 별 개수 분포\n",
            "        0   2\n",
            "count  50  50\n",
            "------------------------------\n",
            "Validation 각 label 별 개수 분포\n",
            "        1\n",
            "count  50\n",
            "------------------------------\n",
            "######### Round 3 #########\n",
            "Train 각 label 별 개수 분포\n",
            "        0   1\n",
            "count  50  50\n",
            "------------------------------\n",
            "Validation 각 label 별 개수 분포\n",
            "        2\n",
            "count  50\n",
            "------------------------------\n"
          ]
        }
      ]
    },
    {
      "cell_type": "code",
      "source": [
        "# StratifiedKFold\n",
        "n_iter = 0\n",
        "stf_kfold = StratifiedKFold(n_splits = 3)\n",
        "\n",
        "for train_index, test_index in stf_kfold.split(X_iris, y_iris):\n",
        "  n_iter += 1\n",
        "  y_train, y_test = y_iris[train_index], y_iris[test_index]\n",
        "  \n",
        "  label_train = np.unique(y_train, return_counts=True)\n",
        "  label_test = np.unique(y_test, return_counts=True)\n",
        "\n",
        "  count_train = pd.DataFrame(label_train[1], index=label_train[0], columns=['count']).transpose()\n",
        "  count_test = pd.DataFrame(label_test[1], index=label_test[0], columns=['count']).transpose()\n",
        "  print('######### Round {} #########'.format(n_iter))\n",
        "  print('Train 각 label 별 개수 분포')\n",
        "  print(count_train)\n",
        "  print('------------------------------')\n",
        "  print('Validation 각 label 별 개수 분포')\n",
        "  print(count_test)\n",
        "  print('------------------------------')"
      ],
      "metadata": {
        "colab": {
          "base_uri": "https://localhost:8080/"
        },
        "id": "SXMWy_ySkp-_",
        "outputId": "a4f15b47-77d5-4a3c-9e70-6f216198d907"
      },
      "execution_count": 70,
      "outputs": [
        {
          "output_type": "stream",
          "name": "stdout",
          "text": [
            "######### Round 1 #########\n",
            "Train 각 label 별 개수 분포\n",
            "        0   1   2\n",
            "count  33  33  34\n",
            "------------------------------\n",
            "Validation 각 label 별 개수 분포\n",
            "        0   1   2\n",
            "count  17  17  16\n",
            "------------------------------\n",
            "######### Round 2 #########\n",
            "Train 각 label 별 개수 분포\n",
            "        0   1   2\n",
            "count  33  34  33\n",
            "------------------------------\n",
            "Validation 각 label 별 개수 분포\n",
            "        0   1   2\n",
            "count  17  16  17\n",
            "------------------------------\n",
            "######### Round 3 #########\n",
            "Train 각 label 별 개수 분포\n",
            "        0   1   2\n",
            "count  34  33  33\n",
            "------------------------------\n",
            "Validation 각 label 별 개수 분포\n",
            "        0   1   2\n",
            "count  16  17  17\n",
            "------------------------------\n"
          ]
        }
      ]
    },
    {
      "cell_type": "markdown",
      "source": [
        "#### cross_val_score"
      ],
      "metadata": {
        "id": "HKE-XUylDzIp"
      }
    },
    {
      "cell_type": "code",
      "source": [
        "from sklearn.model_selection import cross_validate, cross_val_score\n",
        "\n",
        "dt = DecisionTreeClassifier(random_state = 121)\n",
        "\n",
        "scores = cross_val_score(dt, X_iris, y_iris, scoring = 'accuracy', cv = 5)\n",
        "\n",
        "print('교차 검증별 정확도:', np.round(scores, 4))\n",
        "print('평균 검증 정확도:', np.round(np.mean(scores), 4))"
      ],
      "metadata": {
        "colab": {
          "base_uri": "https://localhost:8080/"
        },
        "id": "XO5pS3P7kqBo",
        "outputId": "72c0c6e5-8f4e-463c-fd3f-6dfb981e3803"
      },
      "execution_count": 73,
      "outputs": [
        {
          "output_type": "stream",
          "name": "stdout",
          "text": [
            "교차 검증별 정확도: [0.9667 0.9667 0.9    0.9667 1.    ]\n",
            "평균 검증 정확도: 0.96\n"
          ]
        }
      ]
    },
    {
      "cell_type": "markdown",
      "source": [
        "#### GridSearchCV"
      ],
      "metadata": {
        "id": "izfX74XjI_Rs"
      }
    },
    {
      "cell_type": "code",
      "source": [
        "from sklearn.model_selection import GridSearchCV\n",
        "\n",
        "dt = DecisionTreeClassifier()\n",
        "\n",
        "# 사용 가능한 파라미터 확인\n",
        "dt.get_params()"
      ],
      "metadata": {
        "colab": {
          "base_uri": "https://localhost:8080/"
        },
        "id": "2ErzHae5kqD_",
        "outputId": "4dfb39ec-bfed-43e4-c670-f55578401cd2"
      },
      "execution_count": 74,
      "outputs": [
        {
          "output_type": "execute_result",
          "data": {
            "text/plain": [
              "{'ccp_alpha': 0.0,\n",
              " 'class_weight': None,\n",
              " 'criterion': 'gini',\n",
              " 'max_depth': None,\n",
              " 'max_features': None,\n",
              " 'max_leaf_nodes': None,\n",
              " 'min_impurity_decrease': 0.0,\n",
              " 'min_samples_leaf': 1,\n",
              " 'min_samples_split': 2,\n",
              " 'min_weight_fraction_leaf': 0.0,\n",
              " 'random_state': None,\n",
              " 'splitter': 'best'}"
            ]
          },
          "metadata": {},
          "execution_count": 74
        }
      ]
    },
    {
      "cell_type": "code",
      "source": [
        "# train_val 분리\n",
        "X_train, X_test, y_train, y_test = train_test_split(X_iris, y_iris, test_size = 0.2, random_state = 121)\n",
        "\n",
        "dt_params = {\n",
        "    'max_depth': [1,2,3,4],\n",
        "    'min_samples_split':[2,3]\n",
        "}\n",
        "\n",
        "# 최적의 파라미터 \n",
        "dt_grid = GridSearchCV(dt, dt_params, cv = 5)\n",
        "dt_grid.fit(X_train, y_train)\n",
        "\n",
        "# 결과 추출\n",
        "scores_df = pd.DataFrame(dt_grid.cv_results_)\n",
        "scores_df[['params', 'mean_test_score', 'rank_test_score']]"
      ],
      "metadata": {
        "colab": {
          "base_uri": "https://localhost:8080/",
          "height": 297
        },
        "id": "UT6VmDSRJBiS",
        "outputId": "6364e19a-3ff6-4f49-eacb-831b99f791c4"
      },
      "execution_count": 83,
      "outputs": [
        {
          "output_type": "execute_result",
          "data": {
            "text/plain": [
              "                                     params  mean_test_score  rank_test_score\n",
              "0  {'max_depth': 1, 'min_samples_split': 2}         0.700000                7\n",
              "1  {'max_depth': 1, 'min_samples_split': 3}         0.700000                7\n",
              "2  {'max_depth': 2, 'min_samples_split': 2}         0.958333                5\n",
              "3  {'max_depth': 2, 'min_samples_split': 3}         0.958333                5\n",
              "4  {'max_depth': 3, 'min_samples_split': 2}         0.975000                1\n",
              "5  {'max_depth': 3, 'min_samples_split': 3}         0.975000                1\n",
              "6  {'max_depth': 4, 'min_samples_split': 2}         0.975000                1\n",
              "7  {'max_depth': 4, 'min_samples_split': 3}         0.975000                1"
            ],
            "text/html": [
              "\n",
              "  <div id=\"df-97671816-66e3-46e9-9249-f19737fee6b5\">\n",
              "    <div class=\"colab-df-container\">\n",
              "      <div>\n",
              "<style scoped>\n",
              "    .dataframe tbody tr th:only-of-type {\n",
              "        vertical-align: middle;\n",
              "    }\n",
              "\n",
              "    .dataframe tbody tr th {\n",
              "        vertical-align: top;\n",
              "    }\n",
              "\n",
              "    .dataframe thead th {\n",
              "        text-align: right;\n",
              "    }\n",
              "</style>\n",
              "<table border=\"1\" class=\"dataframe\">\n",
              "  <thead>\n",
              "    <tr style=\"text-align: right;\">\n",
              "      <th></th>\n",
              "      <th>params</th>\n",
              "      <th>mean_test_score</th>\n",
              "      <th>rank_test_score</th>\n",
              "    </tr>\n",
              "  </thead>\n",
              "  <tbody>\n",
              "    <tr>\n",
              "      <th>0</th>\n",
              "      <td>{'max_depth': 1, 'min_samples_split': 2}</td>\n",
              "      <td>0.700000</td>\n",
              "      <td>7</td>\n",
              "    </tr>\n",
              "    <tr>\n",
              "      <th>1</th>\n",
              "      <td>{'max_depth': 1, 'min_samples_split': 3}</td>\n",
              "      <td>0.700000</td>\n",
              "      <td>7</td>\n",
              "    </tr>\n",
              "    <tr>\n",
              "      <th>2</th>\n",
              "      <td>{'max_depth': 2, 'min_samples_split': 2}</td>\n",
              "      <td>0.958333</td>\n",
              "      <td>5</td>\n",
              "    </tr>\n",
              "    <tr>\n",
              "      <th>3</th>\n",
              "      <td>{'max_depth': 2, 'min_samples_split': 3}</td>\n",
              "      <td>0.958333</td>\n",
              "      <td>5</td>\n",
              "    </tr>\n",
              "    <tr>\n",
              "      <th>4</th>\n",
              "      <td>{'max_depth': 3, 'min_samples_split': 2}</td>\n",
              "      <td>0.975000</td>\n",
              "      <td>1</td>\n",
              "    </tr>\n",
              "    <tr>\n",
              "      <th>5</th>\n",
              "      <td>{'max_depth': 3, 'min_samples_split': 3}</td>\n",
              "      <td>0.975000</td>\n",
              "      <td>1</td>\n",
              "    </tr>\n",
              "    <tr>\n",
              "      <th>6</th>\n",
              "      <td>{'max_depth': 4, 'min_samples_split': 2}</td>\n",
              "      <td>0.975000</td>\n",
              "      <td>1</td>\n",
              "    </tr>\n",
              "    <tr>\n",
              "      <th>7</th>\n",
              "      <td>{'max_depth': 4, 'min_samples_split': 3}</td>\n",
              "      <td>0.975000</td>\n",
              "      <td>1</td>\n",
              "    </tr>\n",
              "  </tbody>\n",
              "</table>\n",
              "</div>\n",
              "      <button class=\"colab-df-convert\" onclick=\"convertToInteractive('df-97671816-66e3-46e9-9249-f19737fee6b5')\"\n",
              "              title=\"Convert this dataframe to an interactive table.\"\n",
              "              style=\"display:none;\">\n",
              "        \n",
              "  <svg xmlns=\"http://www.w3.org/2000/svg\" height=\"24px\"viewBox=\"0 0 24 24\"\n",
              "       width=\"24px\">\n",
              "    <path d=\"M0 0h24v24H0V0z\" fill=\"none\"/>\n",
              "    <path d=\"M18.56 5.44l.94 2.06.94-2.06 2.06-.94-2.06-.94-.94-2.06-.94 2.06-2.06.94zm-11 1L8.5 8.5l.94-2.06 2.06-.94-2.06-.94L8.5 2.5l-.94 2.06-2.06.94zm10 10l.94 2.06.94-2.06 2.06-.94-2.06-.94-.94-2.06-.94 2.06-2.06.94z\"/><path d=\"M17.41 7.96l-1.37-1.37c-.4-.4-.92-.59-1.43-.59-.52 0-1.04.2-1.43.59L10.3 9.45l-7.72 7.72c-.78.78-.78 2.05 0 2.83L4 21.41c.39.39.9.59 1.41.59.51 0 1.02-.2 1.41-.59l7.78-7.78 2.81-2.81c.8-.78.8-2.07 0-2.86zM5.41 20L4 18.59l7.72-7.72 1.47 1.35L5.41 20z\"/>\n",
              "  </svg>\n",
              "      </button>\n",
              "      \n",
              "  <style>\n",
              "    .colab-df-container {\n",
              "      display:flex;\n",
              "      flex-wrap:wrap;\n",
              "      gap: 12px;\n",
              "    }\n",
              "\n",
              "    .colab-df-convert {\n",
              "      background-color: #E8F0FE;\n",
              "      border: none;\n",
              "      border-radius: 50%;\n",
              "      cursor: pointer;\n",
              "      display: none;\n",
              "      fill: #1967D2;\n",
              "      height: 32px;\n",
              "      padding: 0 0 0 0;\n",
              "      width: 32px;\n",
              "    }\n",
              "\n",
              "    .colab-df-convert:hover {\n",
              "      background-color: #E2EBFA;\n",
              "      box-shadow: 0px 1px 2px rgba(60, 64, 67, 0.3), 0px 1px 3px 1px rgba(60, 64, 67, 0.15);\n",
              "      fill: #174EA6;\n",
              "    }\n",
              "\n",
              "    [theme=dark] .colab-df-convert {\n",
              "      background-color: #3B4455;\n",
              "      fill: #D2E3FC;\n",
              "    }\n",
              "\n",
              "    [theme=dark] .colab-df-convert:hover {\n",
              "      background-color: #434B5C;\n",
              "      box-shadow: 0px 1px 3px 1px rgba(0, 0, 0, 0.15);\n",
              "      filter: drop-shadow(0px 1px 2px rgba(0, 0, 0, 0.3));\n",
              "      fill: #FFFFFF;\n",
              "    }\n",
              "  </style>\n",
              "\n",
              "      <script>\n",
              "        const buttonEl =\n",
              "          document.querySelector('#df-97671816-66e3-46e9-9249-f19737fee6b5 button.colab-df-convert');\n",
              "        buttonEl.style.display =\n",
              "          google.colab.kernel.accessAllowed ? 'block' : 'none';\n",
              "\n",
              "        async function convertToInteractive(key) {\n",
              "          const element = document.querySelector('#df-97671816-66e3-46e9-9249-f19737fee6b5');\n",
              "          const dataTable =\n",
              "            await google.colab.kernel.invokeFunction('convertToInteractive',\n",
              "                                                     [key], {});\n",
              "          if (!dataTable) return;\n",
              "\n",
              "          const docLinkHtml = 'Like what you see? Visit the ' +\n",
              "            '<a target=\"_blank\" href=https://colab.research.google.com/notebooks/data_table.ipynb>data table notebook</a>'\n",
              "            + ' to learn more about interactive tables.';\n",
              "          element.innerHTML = '';\n",
              "          dataTable['output_type'] = 'display_data';\n",
              "          await google.colab.output.renderOutput(dataTable, element);\n",
              "          const docLink = document.createElement('div');\n",
              "          docLink.innerHTML = docLinkHtml;\n",
              "          element.appendChild(docLink);\n",
              "        }\n",
              "      </script>\n",
              "    </div>\n",
              "  </div>\n",
              "  "
            ]
          },
          "metadata": {},
          "execution_count": 83
        }
      ]
    },
    {
      "cell_type": "code",
      "source": [
        "print('GridSearchCV 최적 파라미터:', dt_grid.best_params_)\n",
        "print('GridSearchCV 최고 정확도: {0:.4f}'.format(dt_grid.best_score_))"
      ],
      "metadata": {
        "colab": {
          "base_uri": "https://localhost:8080/"
        },
        "id": "lOFo0Z1jkqGk",
        "outputId": "ca6f0da9-434b-45f2-92fa-41d0f159e163"
      },
      "execution_count": 84,
      "outputs": [
        {
          "output_type": "stream",
          "name": "stdout",
          "text": [
            "GridSearchCV 최적 파라미터: {'max_depth': 3, 'min_samples_split': 2}\n",
            "GridSearchCV 최고 정확도: 0.9750\n"
          ]
        }
      ]
    },
    {
      "cell_type": "code",
      "source": [
        "# GridSearchCV의 refit으로 이미 학습이 된 estimator 반환\n",
        "estimator = dt_grid.best_estimator_\n",
        "\n",
        "pred = estimator.predict(X_test)\n",
        "print('예측 정확도: {:.4f}'.format(accuracy_score(pred, y_test)))"
      ],
      "metadata": {
        "colab": {
          "base_uri": "https://localhost:8080/"
        },
        "id": "wiyNz4FikqJb",
        "outputId": "0e1d3751-32f9-46f1-ce3d-314993a648e1"
      },
      "execution_count": 87,
      "outputs": [
        {
          "output_type": "stream",
          "name": "stdout",
          "text": [
            "예측 정확도: 0.9667\n"
          ]
        }
      ]
    }
  ],
  "metadata": {
    "kernelspec": {
      "display_name": "Python 3",
      "language": "python",
      "name": "python3"
    },
    "language_info": {
      "codemirror_mode": {
        "name": "ipython",
        "version": 3
      },
      "file_extension": ".py",
      "mimetype": "text/x-python",
      "name": "python",
      "nbconvert_exporter": "python",
      "pygments_lexer": "ipython3",
      "version": "3.6.9"
    },
    "colab": {
      "provenance": [],
      "toc_visible": true,
      "include_colab_link": true
    }
  },
  "nbformat": 4,
  "nbformat_minor": 0
}